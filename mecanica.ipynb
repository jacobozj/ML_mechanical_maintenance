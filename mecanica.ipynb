{
 "cells": [
  {
   "cell_type": "markdown",
   "metadata": {
    "id": "lsmG5nqX11qD"
   },
   "source": [
    "# Case 1\n",
    "Import dataset"
   ]
  },
  {
   "cell_type": "code",
   "execution_count": 53,
   "metadata": {
    "colab": {
     "base_uri": "https://localhost:8080/",
     "height": 206
    },
    "executionInfo": {
     "elapsed": 30,
     "status": "ok",
     "timestamp": 1742765610885,
     "user": {
      "displayName": "Jacobo Zuluaga",
      "userId": "02492111909994042039"
     },
     "user_tz": 300
    },
    "id": "R-qizp9H0r9t",
    "outputId": "c2b98d4c-0539-4f9a-d624-519a31746aed"
   },
   "outputs": [
    {
     "data": {
      "text/html": [
       "<div>\n",
       "<style scoped>\n",
       "    .dataframe tbody tr th:only-of-type {\n",
       "        vertical-align: middle;\n",
       "    }\n",
       "\n",
       "    .dataframe tbody tr th {\n",
       "        vertical-align: top;\n",
       "    }\n",
       "\n",
       "    .dataframe thead th {\n",
       "        text-align: right;\n",
       "    }\n",
       "</style>\n",
       "<table border=\"1\" class=\"dataframe\">\n",
       "  <thead>\n",
       "    <tr style=\"text-align: right;\">\n",
       "      <th></th>\n",
       "      <th>Registro</th>\n",
       "      <th>Temperatura</th>\n",
       "      <th>Vibración</th>\n",
       "      <th>Presión</th>\n",
       "      <th>Estado</th>\n",
       "    </tr>\n",
       "  </thead>\n",
       "  <tbody>\n",
       "    <tr>\n",
       "      <th>0</th>\n",
       "      <td>1</td>\n",
       "      <td>60.4</td>\n",
       "      <td>2.1</td>\n",
       "      <td>3.0</td>\n",
       "      <td>Normal</td>\n",
       "    </tr>\n",
       "    <tr>\n",
       "      <th>1</th>\n",
       "      <td>2</td>\n",
       "      <td>79.8</td>\n",
       "      <td>4.5</td>\n",
       "      <td>4.3</td>\n",
       "      <td>Advertencia</td>\n",
       "    </tr>\n",
       "    <tr>\n",
       "      <th>2</th>\n",
       "      <td>3</td>\n",
       "      <td>90.5</td>\n",
       "      <td>6.1</td>\n",
       "      <td>5.0</td>\n",
       "      <td>Falla</td>\n",
       "    </tr>\n",
       "    <tr>\n",
       "      <th>3</th>\n",
       "      <td>4</td>\n",
       "      <td>91.9</td>\n",
       "      <td>6.2</td>\n",
       "      <td>5.0</td>\n",
       "      <td>Falla</td>\n",
       "    </tr>\n",
       "    <tr>\n",
       "      <th>4</th>\n",
       "      <td>5</td>\n",
       "      <td>61.3</td>\n",
       "      <td>2.2</td>\n",
       "      <td>3.1</td>\n",
       "      <td>Normal</td>\n",
       "    </tr>\n",
       "  </tbody>\n",
       "</table>\n",
       "</div>"
      ],
      "text/plain": [
       "   Registro Temperatura  Vibración  Presión       Estado\n",
       "0         1        60.4        2.1      3.0       Normal\n",
       "1         2        79.8        4.5      4.3  Advertencia\n",
       "2         3        90.5        6.1      5.0        Falla\n",
       "3         4        91.9        6.2      5.0        Falla\n",
       "4         5        61.3        2.2      3.1       Normal"
      ]
     },
     "execution_count": 53,
     "metadata": {},
     "output_type": "execute_result"
    }
   ],
   "source": [
    "import pandas as pd\n",
    "data1 = pd.read_excel('dataset.xlsx', sheet_name='Caso_1')\n",
    "#head() print first values to check if the data is loaded correctly\n",
    "data1.head()"
   ]
  },
  {
   "cell_type": "code",
   "execution_count": 54,
   "metadata": {
    "colab": {
     "base_uri": "https://localhost:8080/"
    },
    "executionInfo": {
     "elapsed": 16,
     "status": "ok",
     "timestamp": 1742765612807,
     "user": {
      "displayName": "Jacobo Zuluaga",
      "userId": "02492111909994042039"
     },
     "user_tz": 300
    },
    "id": "4bbGIE2K10Gj",
    "outputId": "832be6e6-d5b4-47ac-e57c-24e7a7a3e173"
   },
   "outputs": [
    {
     "name": "stdout",
     "output_type": "stream",
     "text": [
      "<class 'pandas.core.frame.DataFrame'>\n",
      "RangeIndex: 100 entries, 0 to 99\n",
      "Data columns (total 5 columns):\n",
      " #   Column       Non-Null Count  Dtype  \n",
      "---  ------       --------------  -----  \n",
      " 0   Registro     100 non-null    int64  \n",
      " 1   Temperatura  100 non-null    object \n",
      " 2   Vibración    100 non-null    float64\n",
      " 3   Presión      100 non-null    float64\n",
      " 4   Estado       100 non-null    object \n",
      "dtypes: float64(2), int64(1), object(2)\n",
      "memory usage: 4.0+ KB\n"
     ]
    },
    {
     "data": {
      "text/plain": [
       "(100, 5)"
      ]
     },
     "execution_count": 54,
     "metadata": {},
     "output_type": "execute_result"
    }
   ],
   "source": [
    "#data.info for information about the data\n",
    "data1.info()\n",
    "#dropna for removing NaN values\n",
    "data = data1.dropna()\n",
    "#shape for checking the shape of the data\n",
    "data1.shape"
   ]
  },
  {
   "cell_type": "code",
   "execution_count": 55,
   "metadata": {
    "colab": {
     "base_uri": "https://localhost:8080/",
     "height": 272
    },
    "executionInfo": {
     "elapsed": 30,
     "status": "ok",
     "timestamp": 1742765614736,
     "user": {
      "displayName": "Jacobo Zuluaga",
      "userId": "02492111909994042039"
     },
     "user_tz": 300
    },
    "id": "YZSc_kb4869-",
    "outputId": "f1804509-ec0a-461c-d591-14b738e9a788"
   },
   "outputs": [
    {
     "data": {
      "text/plain": [
       "Estado\n",
       "Advertencia    33\n",
       "Falla          33\n",
       "Normal         32\n",
       "NormaL          1\n",
       "Fallaa          1\n",
       "Name: count, dtype: int64"
      ]
     },
     "execution_count": 55,
     "metadata": {},
     "output_type": "execute_result"
    }
   ],
   "source": [
    "#counting the number of unique values in the column \"Estado\"\n",
    "data1[\"Estado\"].value_counts()\n"
   ]
  },
  {
   "cell_type": "code",
   "execution_count": 56,
   "metadata": {
    "colab": {
     "base_uri": "https://localhost:8080/",
     "height": 210
    },
    "executionInfo": {
     "elapsed": 26,
     "status": "ok",
     "timestamp": 1742765616417,
     "user": {
      "displayName": "Jacobo Zuluaga",
      "userId": "02492111909994042039"
     },
     "user_tz": 300
    },
    "id": "k-hsVqz99JiR",
    "outputId": "2e8b966a-0e8b-492c-af82-206c47bb28c9"
   },
   "outputs": [
    {
     "data": {
      "text/plain": [
       "Estado\n",
       "Falla          34\n",
       "Normal         33\n",
       "Advertencia    33\n",
       "Name: count, dtype: int64"
      ]
     },
     "execution_count": 56,
     "metadata": {},
     "output_type": "execute_result"
    }
   ],
   "source": [
    "#normalize the column \"Estado\" to have consistent values\n",
    "data1[\"Estado\"] = data1[\"Estado\"].replace({\"NormaL\": \"Normal\", \"Fallaa\": \"Falla\"})\n",
    "\n",
    "#checking the unique values in the column \"Estado\" after normalization\n",
    "data1[\"Estado\"].value_counts()\n"
   ]
  },
  {
   "cell_type": "markdown",
   "metadata": {
    "id": "2k63GDco8ou4"
   },
   "source": [
    "KNN entrenamiento"
   ]
  },
  {
   "cell_type": "code",
   "execution_count": 57,
   "metadata": {
    "colab": {
     "base_uri": "https://localhost:8080/",
     "height": 206
    },
    "executionInfo": {
     "elapsed": 28,
     "status": "ok",
     "timestamp": 1742765618148,
     "user": {
      "displayName": "Jacobo Zuluaga",
      "userId": "02492111909994042039"
     },
     "user_tz": 300
    },
    "id": "97HwKWVv7_nO",
    "outputId": "92c4c63b-1fba-4a50-f2d1-d6797bd2766a"
   },
   "outputs": [
    {
     "data": {
      "text/html": [
       "<div>\n",
       "<style scoped>\n",
       "    .dataframe tbody tr th:only-of-type {\n",
       "        vertical-align: middle;\n",
       "    }\n",
       "\n",
       "    .dataframe tbody tr th {\n",
       "        vertical-align: top;\n",
       "    }\n",
       "\n",
       "    .dataframe thead th {\n",
       "        text-align: right;\n",
       "    }\n",
       "</style>\n",
       "<table border=\"1\" class=\"dataframe\">\n",
       "  <thead>\n",
       "    <tr style=\"text-align: right;\">\n",
       "      <th></th>\n",
       "      <th>Registro</th>\n",
       "      <th>Temperatura</th>\n",
       "      <th>Vibración</th>\n",
       "      <th>Presión</th>\n",
       "      <th>Estado</th>\n",
       "    </tr>\n",
       "  </thead>\n",
       "  <tbody>\n",
       "    <tr>\n",
       "      <th>0</th>\n",
       "      <td>1</td>\n",
       "      <td>-1.395531</td>\n",
       "      <td>-1.386476</td>\n",
       "      <td>-1.513731</td>\n",
       "      <td>Normal</td>\n",
       "    </tr>\n",
       "    <tr>\n",
       "      <th>1</th>\n",
       "      <td>2</td>\n",
       "      <td>0.213389</td>\n",
       "      <td>0.147661</td>\n",
       "      <td>0.233916</td>\n",
       "      <td>Advertencia</td>\n",
       "    </tr>\n",
       "    <tr>\n",
       "      <th>2</th>\n",
       "      <td>3</td>\n",
       "      <td>1.100783</td>\n",
       "      <td>1.170419</td>\n",
       "      <td>1.174956</td>\n",
       "      <td>Falla</td>\n",
       "    </tr>\n",
       "    <tr>\n",
       "      <th>3</th>\n",
       "      <td>4</td>\n",
       "      <td>1.216891</td>\n",
       "      <td>1.234341</td>\n",
       "      <td>1.174956</td>\n",
       "      <td>Falla</td>\n",
       "    </tr>\n",
       "    <tr>\n",
       "      <th>4</th>\n",
       "      <td>5</td>\n",
       "      <td>-1.320890</td>\n",
       "      <td>-1.322554</td>\n",
       "      <td>-1.379296</td>\n",
       "      <td>Normal</td>\n",
       "    </tr>\n",
       "  </tbody>\n",
       "</table>\n",
       "</div>"
      ],
      "text/plain": [
       "   Registro  Temperatura  Vibración   Presión       Estado\n",
       "0         1    -1.395531  -1.386476 -1.513731       Normal\n",
       "1         2     0.213389   0.147661  0.233916  Advertencia\n",
       "2         3     1.100783   1.170419  1.174956        Falla\n",
       "3         4     1.216891   1.234341  1.174956        Falla\n",
       "4         5    -1.320890  -1.322554 -1.379296       Normal"
      ]
     },
     "execution_count": 57,
     "metadata": {},
     "output_type": "execute_result"
    }
   ],
   "source": [
    "from sklearn.preprocessing import StandardScaler\n",
    "#replace commas with dots and convert to float\n",
    "columnas_numericas = [\"Temperatura\", \"Vibración\", \"Presión\"]\n",
    "\n",
    "data1[columnas_numericas] = data1[columnas_numericas].replace(',', '.', regex=True).astype(float)\n",
    "\n",
    "#apply StandardScaler to the numeric columns\n",
    "scaler = StandardScaler()\n",
    "data1[columnas_numericas] = scaler.fit_transform(data1[columnas_numericas])\n",
    "\n",
    "data1 = data1\n",
    "\n",
    "data1.head()\n"
   ]
  },
  {
   "cell_type": "code",
   "execution_count": 58,
   "metadata": {
    "colab": {
     "base_uri": "https://localhost:8080/"
    },
    "executionInfo": {
     "elapsed": 26,
     "status": "ok",
     "timestamp": 1742765794692,
     "user": {
      "displayName": "Jacobo Zuluaga",
      "userId": "02492111909994042039"
     },
     "user_tz": 300
    },
    "id": "u9Oco3R27uD8",
    "outputId": "70dfc9ec-b0aa-438b-cdc9-7580f86d8282"
   },
   "outputs": [
    {
     "name": "stdout",
     "output_type": "stream",
     "text": [
      "Precisión: 1.0\n",
      "Matriz de Confusión:\n",
      " [[6 0 0]\n",
      " [0 7 0]\n",
      " [0 0 7]]\n",
      "[[ 0.06410801 -0.29979596 -0.16938728]]\n",
      "Predicción para el nuevo registro: Advertencia\n"
     ]
    },
    {
     "name": "stderr",
     "output_type": "stream",
     "text": [
      "/home/jacobo/Escritorio/projects/ML_mechanical_maintenance/.venv/lib/python3.12/site-packages/sklearn/utils/validation.py:2739: UserWarning: X does not have valid feature names, but StandardScaler was fitted with feature names\n",
      "  warnings.warn(\n",
      "/home/jacobo/Escritorio/projects/ML_mechanical_maintenance/.venv/lib/python3.12/site-packages/sklearn/utils/validation.py:2739: UserWarning: X does not have valid feature names, but KNeighborsClassifier was fitted with feature names\n",
      "  warnings.warn(\n"
     ]
    }
   ],
   "source": [
    "from sklearn.model_selection import train_test_split\n",
    "from sklearn.neighbors import KNeighborsClassifier\n",
    "from sklearn.metrics import accuracy_score, confusion_matrix\n",
    "\n",
    "X = data1[['Temperatura', 'Vibración', 'Presión']]\n",
    "y = data1['Estado']\n",
    "\n",
    "X_train, X_test, y_train, y_test = train_test_split(X, y, test_size=0.2, random_state=42)\n",
    "\n",
    "knn = KNeighborsClassifier(n_neighbors=3)\n",
    "knn.fit(X_train, y_train)\n",
    "\n",
    "y_pred = knn.predict(X_test)\n",
    "\n",
    "accuracy = accuracy_score(y_test, y_pred)\n",
    "confusion_mat = confusion_matrix(y_test, y_pred)\n",
    "\n",
    "print(\"Precisión:\", accuracy)\n",
    "print(\"Matriz de Confusión:\\n\", confusion_mat)\n",
    "\n",
    "nuevo_registro = [[78, 3.8, 4]]  # Temperatura = 78, Vibración = 3.8, Presión = 4.0\n",
    "nuevo_registro_escalado = scaler.transform(nuevo_registro)\n",
    "print(nuevo_registro_escalado)\n",
    "prediccion = knn.predict(nuevo_registro_escalado)\n",
    "print(\"Predicción para el nuevo registro:\", prediccion[0])\n"
   ]
  },
  {
   "cell_type": "markdown",
   "metadata": {
    "id": "Q3O3PH5c4wV4"
   },
   "source": [
    "# Case 2\n",
    "import dataset for sheet 2"
   ]
  },
  {
   "cell_type": "code",
   "execution_count": 59,
   "metadata": {
    "colab": {
     "base_uri": "https://localhost:8080/",
     "height": 206
    },
    "executionInfo": {
     "elapsed": 14,
     "status": "ok",
     "timestamp": 1742766843113,
     "user": {
      "displayName": "Jacobo Zuluaga",
      "userId": "02492111909994042039"
     },
     "user_tz": 300
    },
    "id": "zwR_Kuuj43S7",
    "outputId": "6f766f18-5ef4-47e2-bfda-ce46b41b8bf3"
   },
   "outputs": [
    {
     "data": {
      "text/html": [
       "<div>\n",
       "<style scoped>\n",
       "    .dataframe tbody tr th:only-of-type {\n",
       "        vertical-align: middle;\n",
       "    }\n",
       "\n",
       "    .dataframe tbody tr th {\n",
       "        vertical-align: top;\n",
       "    }\n",
       "\n",
       "    .dataframe thead th {\n",
       "        text-align: right;\n",
       "    }\n",
       "</style>\n",
       "<table border=\"1\" class=\"dataframe\">\n",
       "  <thead>\n",
       "    <tr style=\"text-align: right;\">\n",
       "      <th></th>\n",
       "      <th>Registro</th>\n",
       "      <th>Horas de operación</th>\n",
       "      <th>Temperatura ambiente</th>\n",
       "      <th>Carga operativa</th>\n",
       "      <th>Mantenimiento</th>\n",
       "    </tr>\n",
       "  </thead>\n",
       "  <tbody>\n",
       "    <tr>\n",
       "      <th>0</th>\n",
       "      <td>1.0</td>\n",
       "      <td>1926.0</td>\n",
       "      <td>26.0</td>\n",
       "      <td>0.79</td>\n",
       "      <td>Requiere mantenimiento</td>\n",
       "    </tr>\n",
       "    <tr>\n",
       "      <th>1</th>\n",
       "      <td>2.0</td>\n",
       "      <td>1660.0</td>\n",
       "      <td>31.0</td>\n",
       "      <td>0.65</td>\n",
       "      <td>No requiere mantenimiento</td>\n",
       "    </tr>\n",
       "    <tr>\n",
       "      <th>2</th>\n",
       "      <td>3.0</td>\n",
       "      <td>1930.0</td>\n",
       "      <td>32.0</td>\n",
       "      <td>0.88</td>\n",
       "      <td>No requiere mantenimiento</td>\n",
       "    </tr>\n",
       "    <tr>\n",
       "      <th>3</th>\n",
       "      <td>4.0</td>\n",
       "      <td>1895.0</td>\n",
       "      <td>27.0</td>\n",
       "      <td>0.63</td>\n",
       "      <td>No requiere mantenimiento</td>\n",
       "    </tr>\n",
       "    <tr>\n",
       "      <th>4</th>\n",
       "      <td>5.0</td>\n",
       "      <td>1844.0</td>\n",
       "      <td>34.0</td>\n",
       "      <td>0.95</td>\n",
       "      <td>No requiere mantenimiento</td>\n",
       "    </tr>\n",
       "  </tbody>\n",
       "</table>\n",
       "</div>"
      ],
      "text/plain": [
       "   Registro  Horas de operación  Temperatura ambiente  Carga operativa  \\\n",
       "0       1.0              1926.0                  26.0             0.79   \n",
       "1       2.0              1660.0                  31.0             0.65   \n",
       "2       3.0              1930.0                  32.0             0.88   \n",
       "3       4.0              1895.0                  27.0             0.63   \n",
       "4       5.0              1844.0                  34.0             0.95   \n",
       "\n",
       "               Mantenimiento  \n",
       "0     Requiere mantenimiento  \n",
       "1  No requiere mantenimiento  \n",
       "2  No requiere mantenimiento  \n",
       "3  No requiere mantenimiento  \n",
       "4  No requiere mantenimiento  "
      ]
     },
     "execution_count": 59,
     "metadata": {},
     "output_type": "execute_result"
    }
   ],
   "source": [
    "import pandas as pd\n",
    "data2 = pd.read_excel('dataset.xlsx', sheet_name='Caso_2')\n",
    "#head() for checking the first values\n",
    "data2.head()"
   ]
  },
  {
   "cell_type": "code",
   "execution_count": 60,
   "metadata": {
    "colab": {
     "base_uri": "https://localhost:8080/"
    },
    "executionInfo": {
     "elapsed": 21,
     "status": "ok",
     "timestamp": 1742766844706,
     "user": {
      "displayName": "Jacobo Zuluaga",
      "userId": "02492111909994042039"
     },
     "user_tz": 300
    },
    "id": "XtWp-aZ9477j",
    "outputId": "7977f03c-0a13-4d87-8118-e3a5a25314f7"
   },
   "outputs": [
    {
     "name": "stdout",
     "output_type": "stream",
     "text": [
      "<class 'pandas.core.frame.DataFrame'>\n",
      "RangeIndex: 50 entries, 0 to 49\n",
      "Data columns (total 5 columns):\n",
      " #   Column                Non-Null Count  Dtype  \n",
      "---  ------                --------------  -----  \n",
      " 0   Registro              47 non-null     float64\n",
      " 1   Horas de operación    47 non-null     float64\n",
      " 2   Temperatura ambiente  47 non-null     float64\n",
      " 3   Carga operativa       47 non-null     float64\n",
      " 4   Mantenimiento         47 non-null     object \n",
      "dtypes: float64(4), object(1)\n",
      "memory usage: 2.1+ KB\n"
     ]
    },
    {
     "data": {
      "text/plain": [
       "(50, 5)"
      ]
     },
     "execution_count": 60,
     "metadata": {},
     "output_type": "execute_result"
    }
   ],
   "source": [
    "#data.info for information about the data\n",
    "data2.info()\n",
    "#shape for checking the shape of the data\n",
    "data2.shape"
   ]
  },
  {
   "cell_type": "code",
   "execution_count": 61,
   "metadata": {
    "colab": {
     "base_uri": "https://localhost:8080/",
     "height": 206
    },
    "executionInfo": {
     "elapsed": 379,
     "status": "ok",
     "timestamp": 1742767680657,
     "user": {
      "displayName": "Jacobo Zuluaga",
      "userId": "02492111909994042039"
     },
     "user_tz": 300
    },
    "id": "5DXNuO5M6EVg",
    "outputId": "970db4cb-3584-46b2-9f40-783ec6f08370"
   },
   "outputs": [
    {
     "data": {
      "text/html": [
       "<div>\n",
       "<style scoped>\n",
       "    .dataframe tbody tr th:only-of-type {\n",
       "        vertical-align: middle;\n",
       "    }\n",
       "\n",
       "    .dataframe tbody tr th {\n",
       "        vertical-align: top;\n",
       "    }\n",
       "\n",
       "    .dataframe thead th {\n",
       "        text-align: right;\n",
       "    }\n",
       "</style>\n",
       "<table border=\"1\" class=\"dataframe\">\n",
       "  <thead>\n",
       "    <tr style=\"text-align: right;\">\n",
       "      <th></th>\n",
       "      <th>Horas de operación</th>\n",
       "      <th>Temperatura ambiente</th>\n",
       "      <th>Carga operativa</th>\n",
       "      <th>Mantenimiento</th>\n",
       "    </tr>\n",
       "  </thead>\n",
       "  <tbody>\n",
       "    <tr>\n",
       "      <th>0</th>\n",
       "      <td>1.370833</td>\n",
       "      <td>-0.495695</td>\n",
       "      <td>0.241743</td>\n",
       "      <td>Requiere mantenimiento</td>\n",
       "    </tr>\n",
       "    <tr>\n",
       "      <th>1</th>\n",
       "      <td>0.641519</td>\n",
       "      <td>0.603252</td>\n",
       "      <td>-1.094954</td>\n",
       "      <td>No requiere mantenimiento</td>\n",
       "    </tr>\n",
       "    <tr>\n",
       "      <th>2</th>\n",
       "      <td>1.381800</td>\n",
       "      <td>0.823041</td>\n",
       "      <td>1.101048</td>\n",
       "      <td>No requiere mantenimiento</td>\n",
       "    </tr>\n",
       "    <tr>\n",
       "      <th>3</th>\n",
       "      <td>1.285837</td>\n",
       "      <td>-0.275906</td>\n",
       "      <td>-1.285911</td>\n",
       "      <td>No requiere mantenimiento</td>\n",
       "    </tr>\n",
       "    <tr>\n",
       "      <th>4</th>\n",
       "      <td>1.146006</td>\n",
       "      <td>1.262620</td>\n",
       "      <td>1.769397</td>\n",
       "      <td>No requiere mantenimiento</td>\n",
       "    </tr>\n",
       "  </tbody>\n",
       "</table>\n",
       "</div>"
      ],
      "text/plain": [
       "   Horas de operación  Temperatura ambiente  Carga operativa  \\\n",
       "0            1.370833             -0.495695         0.241743   \n",
       "1            0.641519              0.603252        -1.094954   \n",
       "2            1.381800              0.823041         1.101048   \n",
       "3            1.285837             -0.275906        -1.285911   \n",
       "4            1.146006              1.262620         1.769397   \n",
       "\n",
       "               Mantenimiento  \n",
       "0     Requiere mantenimiento  \n",
       "1  No requiere mantenimiento  \n",
       "2  No requiere mantenimiento  \n",
       "3  No requiere mantenimiento  \n",
       "4  No requiere mantenimiento  "
      ]
     },
     "execution_count": 61,
     "metadata": {},
     "output_type": "execute_result"
    }
   ],
   "source": [
    "from sklearn.preprocessing import StandardScaler\n",
    "\n",
    "numerical_cols = ['Horas de operación', 'Temperatura ambiente', 'Carga operativa']\n",
    "data_to_scale = data2[numerical_cols]\n",
    "\n",
    "scaler = StandardScaler()\n",
    "\n",
    "scaled_data = scaler.fit_transform(data_to_scale)\n",
    "\n",
    "scaled_df = pd.DataFrame(scaled_data, columns=numerical_cols)\n",
    "\n",
    "if 'Mantenimiento' in data2.columns:\n",
    "    scaled_data2 = pd.concat([scaled_df, data2['Mantenimiento']], axis=1)\n",
    "else:\n",
    "    scaled_data2 = scaled_df\n",
    "\n",
    "scaled_data2.head()"
   ]
  },
  {
   "cell_type": "code",
   "execution_count": 62,
   "metadata": {
    "executionInfo": {
     "elapsed": 19,
     "status": "ok",
     "timestamp": 1742767684685,
     "user": {
      "displayName": "Jacobo Zuluaga",
      "userId": "02492111909994042039"
     },
     "user_tz": 300
    },
    "id": "lRyBGb7F6aSl"
   },
   "outputs": [],
   "source": [
    "normalized_df = scaled_data2.dropna()"
   ]
  },
  {
   "cell_type": "code",
   "execution_count": 63,
   "metadata": {
    "colab": {
     "base_uri": "https://localhost:8080/"
    },
    "executionInfo": {
     "elapsed": 122,
     "status": "ok",
     "timestamp": 1742767698567,
     "user": {
      "displayName": "Jacobo Zuluaga",
      "userId": "02492111909994042039"
     },
     "user_tz": 300
    },
    "id": "Fh0NRQ-j8MVF",
    "outputId": "4e018332-ed77-4e1f-d659-9d59d47f9fd0"
   },
   "outputs": [
    {
     "name": "stdout",
     "output_type": "stream",
     "text": [
      "KNN with k= 3\n",
      "Accuracy:  0.6\n",
      "--------------------\n",
      "KNN with k= 5\n",
      "Accuracy:  0.7\n",
      "--------------------\n",
      "KNN with k= 7\n",
      "Accuracy:  0.6\n",
      "--------------------\n",
      "KNN with k= 9\n",
      "Accuracy:  0.4\n",
      "--------------------\n",
      "[[ 1.37083254 -0.49569526  0.24174312]]\n",
      "Predicción de mantenimiento:  Requiere mantenimiento\n"
     ]
    },
    {
     "name": "stderr",
     "output_type": "stream",
     "text": [
      "/home/jacobo/Escritorio/projects/ML_mechanical_maintenance/.venv/lib/python3.12/site-packages/sklearn/metrics/_classification.py:1565: UndefinedMetricWarning: Precision is ill-defined and being set to 0.0 in labels with no predicted samples. Use `zero_division` parameter to control this behavior.\n",
      "  _warn_prf(average, modifier, f\"{metric.capitalize()} is\", len(result))\n",
      "/home/jacobo/Escritorio/projects/ML_mechanical_maintenance/.venv/lib/python3.12/site-packages/sklearn/metrics/_classification.py:1565: UndefinedMetricWarning: Precision is ill-defined and being set to 0.0 in labels with no predicted samples. Use `zero_division` parameter to control this behavior.\n",
      "  _warn_prf(average, modifier, f\"{metric.capitalize()} is\", len(result))\n",
      "/home/jacobo/Escritorio/projects/ML_mechanical_maintenance/.venv/lib/python3.12/site-packages/sklearn/metrics/_classification.py:1565: UndefinedMetricWarning: Precision is ill-defined and being set to 0.0 in labels with no predicted samples. Use `zero_division` parameter to control this behavior.\n",
      "  _warn_prf(average, modifier, f\"{metric.capitalize()} is\", len(result))\n",
      "/home/jacobo/Escritorio/projects/ML_mechanical_maintenance/.venv/lib/python3.12/site-packages/sklearn/metrics/_classification.py:1565: UndefinedMetricWarning: Precision is ill-defined and being set to 0.0 in labels with no predicted samples. Use `zero_division` parameter to control this behavior.\n",
      "  _warn_prf(average, modifier, f\"{metric.capitalize()} is\", len(result))\n",
      "/home/jacobo/Escritorio/projects/ML_mechanical_maintenance/.venv/lib/python3.12/site-packages/sklearn/metrics/_classification.py:1565: UndefinedMetricWarning: Precision is ill-defined and being set to 0.0 in labels with no predicted samples. Use `zero_division` parameter to control this behavior.\n",
      "  _warn_prf(average, modifier, f\"{metric.capitalize()} is\", len(result))\n",
      "/home/jacobo/Escritorio/projects/ML_mechanical_maintenance/.venv/lib/python3.12/site-packages/sklearn/metrics/_classification.py:1565: UndefinedMetricWarning: Precision is ill-defined and being set to 0.0 in labels with no predicted samples. Use `zero_division` parameter to control this behavior.\n",
      "  _warn_prf(average, modifier, f\"{metric.capitalize()} is\", len(result))\n",
      "/home/jacobo/Escritorio/projects/ML_mechanical_maintenance/.venv/lib/python3.12/site-packages/sklearn/metrics/_classification.py:1565: UndefinedMetricWarning: Precision is ill-defined and being set to 0.0 in labels with no predicted samples. Use `zero_division` parameter to control this behavior.\n",
      "  _warn_prf(average, modifier, f\"{metric.capitalize()} is\", len(result))\n",
      "/home/jacobo/Escritorio/projects/ML_mechanical_maintenance/.venv/lib/python3.12/site-packages/sklearn/metrics/_classification.py:1565: UndefinedMetricWarning: Precision is ill-defined and being set to 0.0 in labels with no predicted samples. Use `zero_division` parameter to control this behavior.\n",
      "  _warn_prf(average, modifier, f\"{metric.capitalize()} is\", len(result))\n",
      "/home/jacobo/Escritorio/projects/ML_mechanical_maintenance/.venv/lib/python3.12/site-packages/sklearn/metrics/_classification.py:1565: UndefinedMetricWarning: Precision is ill-defined and being set to 0.0 in labels with no predicted samples. Use `zero_division` parameter to control this behavior.\n",
      "  _warn_prf(average, modifier, f\"{metric.capitalize()} is\", len(result))\n",
      "/home/jacobo/Escritorio/projects/ML_mechanical_maintenance/.venv/lib/python3.12/site-packages/sklearn/metrics/_classification.py:1565: UndefinedMetricWarning: Precision is ill-defined and being set to 0.0 in labels with no predicted samples. Use `zero_division` parameter to control this behavior.\n",
      "  _warn_prf(average, modifier, f\"{metric.capitalize()} is\", len(result))\n",
      "/home/jacobo/Escritorio/projects/ML_mechanical_maintenance/.venv/lib/python3.12/site-packages/sklearn/metrics/_classification.py:1565: UndefinedMetricWarning: Precision is ill-defined and being set to 0.0 in labels with no predicted samples. Use `zero_division` parameter to control this behavior.\n",
      "  _warn_prf(average, modifier, f\"{metric.capitalize()} is\", len(result))\n",
      "/home/jacobo/Escritorio/projects/ML_mechanical_maintenance/.venv/lib/python3.12/site-packages/sklearn/metrics/_classification.py:1565: UndefinedMetricWarning: Precision is ill-defined and being set to 0.0 in labels with no predicted samples. Use `zero_division` parameter to control this behavior.\n",
      "  _warn_prf(average, modifier, f\"{metric.capitalize()} is\", len(result))\n",
      "/home/jacobo/Escritorio/projects/ML_mechanical_maintenance/.venv/lib/python3.12/site-packages/sklearn/utils/validation.py:2739: UserWarning: X does not have valid feature names, but KNeighborsClassifier was fitted with feature names\n",
      "  warnings.warn(\n"
     ]
    }
   ],
   "source": [
    "import pandas as pd\n",
    "from sklearn.model_selection import train_test_split\n",
    "from sklearn.neighbors import KNeighborsClassifier\n",
    "from sklearn.metrics import accuracy_score, classification_report\n",
    "\n",
    "X = normalized_df[['Horas de operación', 'Temperatura ambiente', 'Carga operativa']]\n",
    "y = normalized_df['Mantenimiento']\n",
    "\n",
    "X_train, X_test, y_train, y_test = train_test_split(X, y, test_size=0.2, random_state=42)\n",
    "\n",
    "k_values = [3, 5, 7, 9]\n",
    "for k in k_values:\n",
    "    knn = KNeighborsClassifier(n_neighbors=k)\n",
    "    knn.fit(X_train, y_train)\n",
    "    y_pred = knn.predict(X_test)\n",
    "\n",
    "    accuracy = accuracy_score(y_test, y_pred)\n",
    "    report = classification_report(y_test, y_pred)\n",
    "\n",
    "    print(\"KNN with k=\",k)\n",
    "    print(\"Accuracy: \", accuracy)\n",
    "    #report indicator for classification\n",
    "    # print(report)\n",
    "    print(\"-\" * 20)\n",
    "\n",
    "new_data = pd.DataFrame({\n",
    "    'Horas de operación': [1926],\n",
    "    'Temperatura ambiente': [26],\n",
    "    'Carga operativa': [0.79]\n",
    "})\n",
    "new_data_scaled = scaler.transform(new_data)\n",
    "print(new_data_scaled)\n",
    "\n",
    "best_k = 5\n",
    "best_knn = KNeighborsClassifier(n_neighbors=best_k)\n",
    "best_knn.fit(X_train, y_train)\n",
    "\n",
    "predicted_maintenance = best_knn.predict(new_data_scaled)\n",
    "print(\"Predicción de mantenimiento: \", predicted_maintenance[0])"
   ]
  },
  {
   "cell_type": "markdown",
   "metadata": {
    "id": "3BJe87K7EPec"
   },
   "source": [
    "# Case 3\n",
    "import dataset 3"
   ]
  },
  {
   "cell_type": "code",
   "execution_count": 64,
   "metadata": {
    "colab": {
     "base_uri": "https://localhost:8080/",
     "height": 206
    },
    "executionInfo": {
     "elapsed": 45,
     "status": "ok",
     "timestamp": 1742768049187,
     "user": {
      "displayName": "Jacobo Zuluaga",
      "userId": "02492111909994042039"
     },
     "user_tz": 300
    },
    "id": "VtM-GQsQEW_t",
    "outputId": "91dae24a-a691-4efe-b1e5-bb25d8d891d8"
   },
   "outputs": [
    {
     "data": {
      "text/html": [
       "<div>\n",
       "<style scoped>\n",
       "    .dataframe tbody tr th:only-of-type {\n",
       "        vertical-align: middle;\n",
       "    }\n",
       "\n",
       "    .dataframe tbody tr th {\n",
       "        vertical-align: top;\n",
       "    }\n",
       "\n",
       "    .dataframe thead th {\n",
       "        text-align: right;\n",
       "    }\n",
       "</style>\n",
       "<table border=\"1\" class=\"dataframe\">\n",
       "  <thead>\n",
       "    <tr style=\"text-align: right;\">\n",
       "      <th></th>\n",
       "      <th>Registro</th>\n",
       "      <th>Vibración promedio</th>\n",
       "      <th>Amplitud máxima</th>\n",
       "      <th>Frecuencia (Hz)</th>\n",
       "    </tr>\n",
       "  </thead>\n",
       "  <tbody>\n",
       "    <tr>\n",
       "      <th>0</th>\n",
       "      <td>1.0</td>\n",
       "      <td>3.2</td>\n",
       "      <td>8.8</td>\n",
       "      <td>56</td>\n",
       "    </tr>\n",
       "    <tr>\n",
       "      <th>1</th>\n",
       "      <td>2.0</td>\n",
       "      <td>5.8</td>\n",
       "      <td>7.5</td>\n",
       "      <td>50</td>\n",
       "    </tr>\n",
       "    <tr>\n",
       "      <th>2</th>\n",
       "      <td>3.0</td>\n",
       "      <td>4.8</td>\n",
       "      <td>8.6</td>\n",
       "      <td>53</td>\n",
       "    </tr>\n",
       "    <tr>\n",
       "      <th>3</th>\n",
       "      <td>4.0</td>\n",
       "      <td>4.2</td>\n",
       "      <td>8.3</td>\n",
       "      <td>53</td>\n",
       "    </tr>\n",
       "    <tr>\n",
       "      <th>4</th>\n",
       "      <td>5.0</td>\n",
       "      <td>2.2</td>\n",
       "      <td>6.4</td>\n",
       "      <td>54</td>\n",
       "    </tr>\n",
       "  </tbody>\n",
       "</table>\n",
       "</div>"
      ],
      "text/plain": [
       "   Registro Vibración promedio Amplitud máxima Frecuencia (Hz)\n",
       "0       1.0                3.2             8.8              56\n",
       "1       2.0                5.8             7.5              50\n",
       "2       3.0                4.8             8.6              53\n",
       "3       4.0                4.2             8.3              53\n",
       "4       5.0                2.2             6.4              54"
      ]
     },
     "execution_count": 64,
     "metadata": {},
     "output_type": "execute_result"
    }
   ],
   "source": [
    "import pandas as pd\n",
    "data3 = pd.read_excel('dataset.xlsx', sheet_name='Caso_3')\n",
    "#head() for checking the first values\n",
    "data3.head()"
   ]
  },
  {
   "cell_type": "code",
   "execution_count": 65,
   "metadata": {
    "colab": {
     "base_uri": "https://localhost:8080/"
    },
    "executionInfo": {
     "elapsed": 26,
     "status": "ok",
     "timestamp": 1742768369776,
     "user": {
      "displayName": "Jacobo Zuluaga",
      "userId": "02492111909994042039"
     },
     "user_tz": 300
    },
    "id": "l3oFqt0aEhtU",
    "outputId": "8e197d47-373c-4f9d-a753-3042c45f7600"
   },
   "outputs": [
    {
     "name": "stdout",
     "output_type": "stream",
     "text": [
      "<class 'pandas.core.frame.DataFrame'>\n",
      "RangeIndex: 50 entries, 0 to 49\n",
      "Data columns (total 4 columns):\n",
      " #   Column              Non-Null Count  Dtype  \n",
      "---  ------              --------------  -----  \n",
      " 0   Registro            49 non-null     float64\n",
      " 1   Vibración promedio  49 non-null     object \n",
      " 2   Amplitud máxima     49 non-null     object \n",
      " 3   Frecuencia (Hz)     49 non-null     object \n",
      "dtypes: float64(1), object(3)\n",
      "memory usage: 1.7+ KB\n"
     ]
    },
    {
     "data": {
      "text/plain": [
       "(50, 4)"
      ]
     },
     "execution_count": 65,
     "metadata": {},
     "output_type": "execute_result"
    }
   ],
   "source": [
    "#data.info for information about the data\n",
    "data3.info()\n",
    "#shape for checking the shape of the data\n",
    "data3.shape"
   ]
  },
  {
   "cell_type": "code",
   "execution_count": 66,
   "metadata": {
    "colab": {
     "base_uri": "https://localhost:8080/",
     "height": 1000
    },
    "executionInfo": {
     "elapsed": 14,
     "status": "ok",
     "timestamp": 1742768451074,
     "user": {
      "displayName": "Jacobo Zuluaga",
      "userId": "02492111909994042039"
     },
     "user_tz": 300
    },
    "id": "WGeZn7o8FwCW",
    "outputId": "1722dc46-6818-42a4-da45-978659fc2621"
   },
   "outputs": [
    {
     "data": {
      "text/plain": [
       "Registro              1\n",
       "Vibración promedio    1\n",
       "Amplitud máxima       1\n",
       "Frecuencia (Hz)       1\n",
       "dtype: int64"
      ]
     },
     "execution_count": 66,
     "metadata": {},
     "output_type": "execute_result"
    }
   ],
   "source": [
    "#check nan values\n",
    "data3.isnull().sum()"
   ]
  },
  {
   "cell_type": "code",
   "execution_count": 67,
   "metadata": {
    "executionInfo": {
     "elapsed": 9,
     "status": "ok",
     "timestamp": 1742768606283,
     "user": {
      "displayName": "Jacobo Zuluaga",
      "userId": "02492111909994042039"
     },
     "user_tz": 300
    },
    "id": "fq2Y05ATGEtO"
   },
   "outputs": [],
   "source": [
    "data3['Vibración promedio'] = pd.to_numeric(data3['Vibración promedio'], errors='coerce')\n",
    "data3['Amplitud máxima'] = pd.to_numeric(data3['Amplitud máxima'], errors='coerce')\n",
    "data3['Frecuencia (Hz)'] = pd.to_numeric(data3['Frecuencia (Hz)'], errors='coerce')\n",
    "\n",
    "\n",
    "data3.dropna(inplace=True)"
   ]
  },
  {
   "cell_type": "code",
   "execution_count": 68,
   "metadata": {
    "colab": {
     "base_uri": "https://localhost:8080/",
     "height": 206
    },
    "executionInfo": {
     "elapsed": 15,
     "status": "ok",
     "timestamp": 1742769449848,
     "user": {
      "displayName": "Jacobo Zuluaga",
      "userId": "02492111909994042039"
     },
     "user_tz": 300
    },
    "id": "ILd45REdFLHN",
    "outputId": "5b6acf62-8ded-4c50-e084-12e9d5284131"
   },
   "outputs": [
    {
     "data": {
      "text/html": [
       "<div>\n",
       "<style scoped>\n",
       "    .dataframe tbody tr th:only-of-type {\n",
       "        vertical-align: middle;\n",
       "    }\n",
       "\n",
       "    .dataframe tbody tr th {\n",
       "        vertical-align: top;\n",
       "    }\n",
       "\n",
       "    .dataframe thead th {\n",
       "        text-align: right;\n",
       "    }\n",
       "</style>\n",
       "<table border=\"1\" class=\"dataframe\">\n",
       "  <thead>\n",
       "    <tr style=\"text-align: right;\">\n",
       "      <th></th>\n",
       "      <th>Vibración promedio</th>\n",
       "      <th>Amplitud máxima</th>\n",
       "      <th>Frecuencia (Hz)</th>\n",
       "    </tr>\n",
       "  </thead>\n",
       "  <tbody>\n",
       "    <tr>\n",
       "      <th>0</th>\n",
       "      <td>-0.269551</td>\n",
       "      <td>1.529144</td>\n",
       "      <td>0.210359</td>\n",
       "    </tr>\n",
       "    <tr>\n",
       "      <th>1</th>\n",
       "      <td>1.745345</td>\n",
       "      <td>0.866995</td>\n",
       "      <td>-1.662517</td>\n",
       "    </tr>\n",
       "    <tr>\n",
       "      <th>2</th>\n",
       "      <td>0.970385</td>\n",
       "      <td>1.427275</td>\n",
       "      <td>-0.726079</td>\n",
       "    </tr>\n",
       "    <tr>\n",
       "      <th>3</th>\n",
       "      <td>0.505409</td>\n",
       "      <td>1.274471</td>\n",
       "      <td>-0.726079</td>\n",
       "    </tr>\n",
       "    <tr>\n",
       "      <th>4</th>\n",
       "      <td>-1.044511</td>\n",
       "      <td>0.306715</td>\n",
       "      <td>-0.413933</td>\n",
       "    </tr>\n",
       "  </tbody>\n",
       "</table>\n",
       "</div>"
      ],
      "text/plain": [
       "   Vibración promedio  Amplitud máxima  Frecuencia (Hz)\n",
       "0           -0.269551         1.529144         0.210359\n",
       "1            1.745345         0.866995        -1.662517\n",
       "2            0.970385         1.427275        -0.726079\n",
       "3            0.505409         1.274471        -0.726079\n",
       "4           -1.044511         0.306715        -0.413933"
      ]
     },
     "execution_count": 68,
     "metadata": {},
     "output_type": "execute_result"
    }
   ],
   "source": [
    "from sklearn.preprocessing import StandardScaler\n",
    "\n",
    "numerical_cols = ['Vibración promedio', 'Amplitud máxima', 'Frecuencia (Hz)']\n",
    "data_to_scale = data3[numerical_cols]\n",
    "\n",
    "scaler = StandardScaler()\n",
    "\n",
    "scaled_data = scaler.fit_transform(data_to_scale)\n",
    "\n",
    "scaled_df = pd.DataFrame(scaled_data, columns=numerical_cols)\n",
    "\n",
    "scaled_df.head()"
   ]
  },
  {
   "cell_type": "code",
   "execution_count": 69,
   "metadata": {
    "colab": {
     "base_uri": "https://localhost:8080/",
     "height": 1000
    },
    "executionInfo": {
     "elapsed": 334,
     "status": "ok",
     "timestamp": 1742769221216,
     "user": {
      "displayName": "Jacobo Zuluaga",
      "userId": "02492111909994042039"
     },
     "user_tz": 300
    },
    "id": "b5ERTgNIG_l4",
    "outputId": "89ecdf31-9fea-4aa6-e9fd-f89ce7b5d8b8"
   },
   "outputs": [
    {
     "data": {
      "image/png": "[encoded data removed]",
      "text/plain": [
       "<Figure size 640x480 with 1 Axes>"
      ]
     },
     "metadata": {},
     "output_type": "display_data"
    },
    {
     "data": {
      "image/png": "[encoded data removed]",
      "text/plain": [
       "<Figure size 640x480 with 1 Axes>"
      ]
     },
     "metadata": {},
     "output_type": "display_data"
    },
    {
     "name": "stdout",
     "output_type": "stream",
     "text": [
      "Atypical cluster records:\n",
      "     Vibración promedio  Amplitud máxima  Frecuencia (Hz)  cluster\n",
      "1             1.745345         0.866995        -1.662517        1\n",
      "7             1.435361        -1.017584         1.458944        1\n",
      "8             0.892889        -0.610107         0.210359        1\n",
      "10            1.822841        -0.762911        -1.038225        1\n",
      "11            1.280369         1.070733        -0.101787        1\n",
      "23            1.125377         0.714191        -1.662517        1\n",
      "30            1.745345        -1.475995        -0.101787        1\n",
      "31            1.745345        -0.661042         0.522505        1\n",
      "32            1.202873        -0.610107         1.458944        1\n",
      "39            1.590353         0.153911        -0.101787        1\n",
      "41            0.737897        -0.049827         0.834652        1\n"
     ]
    }
   ],
   "source": [
    "from sklearn.cluster import KMeans\n",
    "import matplotlib.pyplot as plt\n",
    "from mpl_toolkits.mplot3d import Axes3D\n",
    "\n",
    "\n",
    "#initialize the KMeans model\n",
    "inertias = []\n",
    "silhouette_scores = []\n",
    "k_range = range(1, 11)\n",
    "#iterate over a range of k values\n",
    "for k in k_range:\n",
    "    #create the KMeans model\n",
    "    kmeans = KMeans(n_clusters=k, random_state=42)\n",
    "\n",
    "    #adjust the model to the data\n",
    "    kmeans.fit(scaled_df)\n",
    "\n",
    "    #store the inertia\n",
    "    inertias.append(kmeans.inertia_)\n",
    "\n",
    "\n",
    "plt.plot(k_range, inertias, 'bx-')\n",
    "plt.xlabel('Número de clusters (k)')\n",
    "plt.ylabel('Inercia')\n",
    "plt.title('Método del codo para determinar k')\n",
    "plt.show()\n",
    "\n",
    "#k means with 3 clusters\n",
    "kmeans = KMeans(n_clusters=3, random_state=42)\n",
    "kmeans.fit(scaled_df)\n",
    "\n",
    "#assign the cluster labels to the scaled data\n",
    "scaled_df['cluster'] = kmeans.labels_\n",
    "\n",
    "\n",
    "\n",
    "fig = plt.figure()\n",
    "ax = fig.add_subplot(111, projection='3d')\n",
    "ax.scatter(scaled_df['Vibración promedio'], scaled_df['Amplitud máxima'],\n",
    "           scaled_df['Frecuencia (Hz)'], c=scaled_df['cluster'])\n",
    "ax.set_xlabel('Vibración promedio')\n",
    "ax.set_ylabel('Amplitud máxima')\n",
    "ax.set_zlabel('Frecuencia (Hz)')\n",
    "plt.title('Clusters identificados')\n",
    "plt.show()\n",
    "\n",
    "\n",
    "cluster_counts = scaled_df['cluster'].value_counts()\n",
    "atypical_cluster = cluster_counts.idxmin()\n",
    "\n",
    "\n",
    "# Analyze the data of these records to determine if they correspond to\n",
    "# failure conditions or accelerated wear.\n",
    "# For example, check if they have higher values of vibration,\n",
    "# amplitude, or frequency compared to the rest of the records.\n",
    "# Display the records of the atypical cluster\n",
    "\n",
    "atypical_records = scaled_df[scaled_df['cluster'] == atypical_cluster]\n",
    "print(\"Atypical cluster records:\\n\", atypical_records)\n",
    "\n",
    "# 5. Conclusions: Formulate maintenance recommendations based on the\n",
    "# detection of anomalies.\n",
    "\n",
    "# Based on the analysis of the records in the atypical cluster, maintenance\n",
    "# recommendations can be formulated to prevent failures or accelerated wear.\n",
    "# For example, more frequent inspections or preventive component replacements\n",
    "# can be recommended for the records that fall into the atypical cluster.\n"
   ]
  },
  {
   "cell_type": "markdown",
   "metadata": {
    "id": "KKU8uTFVJn9K"
   },
   "source": [
    "# Case 4"
   ]
  },
  {
   "cell_type": "code",
   "execution_count": 70,
   "metadata": {
    "colab": {
     "base_uri": "https://localhost:8080/",
     "height": 206
    },
    "executionInfo": {
     "elapsed": 136,
     "status": "ok",
     "timestamp": 1742769487779,
     "user": {
      "displayName": "Jacobo Zuluaga",
      "userId": "02492111909994042039"
     },
     "user_tz": 300
    },
    "id": "ZI5H1mzRJpy_",
    "outputId": "d9c5e187-b020-46c7-d78d-25e8b2765188"
   },
   "outputs": [
    {
     "data": {
      "text/html": [
       "<div>\n",
       "<style scoped>\n",
       "    .dataframe tbody tr th:only-of-type {\n",
       "        vertical-align: middle;\n",
       "    }\n",
       "\n",
       "    .dataframe tbody tr th {\n",
       "        vertical-align: top;\n",
       "    }\n",
       "\n",
       "    .dataframe thead th {\n",
       "        text-align: right;\n",
       "    }\n",
       "</style>\n",
       "<table border=\"1\" class=\"dataframe\">\n",
       "  <thead>\n",
       "    <tr style=\"text-align: right;\">\n",
       "      <th></th>\n",
       "      <th>Registro</th>\n",
       "      <th>Temperatura</th>\n",
       "      <th>Vibración</th>\n",
       "      <th>Velocidad (rpm)</th>\n",
       "    </tr>\n",
       "  </thead>\n",
       "  <tbody>\n",
       "    <tr>\n",
       "      <th>0</th>\n",
       "      <td>1</td>\n",
       "      <td>88</td>\n",
       "      <td>4.5</td>\n",
       "      <td>1696</td>\n",
       "    </tr>\n",
       "    <tr>\n",
       "      <th>1</th>\n",
       "      <td>2</td>\n",
       "      <td>74</td>\n",
       "      <td>4.0</td>\n",
       "      <td>1536</td>\n",
       "    </tr>\n",
       "    <tr>\n",
       "      <th>2</th>\n",
       "      <td>3</td>\n",
       "      <td>67</td>\n",
       "      <td>2.3</td>\n",
       "      <td>1659</td>\n",
       "    </tr>\n",
       "    <tr>\n",
       "      <th>3</th>\n",
       "      <td>4</td>\n",
       "      <td>80</td>\n",
       "      <td>2.4</td>\n",
       "      <td>1508</td>\n",
       "    </tr>\n",
       "    <tr>\n",
       "      <th>4</th>\n",
       "      <td>5</td>\n",
       "      <td>78</td>\n",
       "      <td>1.6</td>\n",
       "      <td>1598</td>\n",
       "    </tr>\n",
       "  </tbody>\n",
       "</table>\n",
       "</div>"
      ],
      "text/plain": [
       "   Registro  Temperatura  Vibración  Velocidad (rpm)\n",
       "0         1           88        4.5             1696\n",
       "1         2           74        4.0             1536\n",
       "2         3           67        2.3             1659\n",
       "3         4           80        2.4             1508\n",
       "4         5           78        1.6             1598"
      ]
     },
     "execution_count": 70,
     "metadata": {},
     "output_type": "execute_result"
    }
   ],
   "source": [
    "import pandas as pd\n",
    "data4 = pd.read_excel('dataset.xlsx', sheet_name='Caso_4')\n",
    "#head() for checking the first values\n",
    "data4.head()"
   ]
  },
  {
   "cell_type": "code",
   "execution_count": 71,
   "metadata": {
    "colab": {
     "base_uri": "https://localhost:8080/"
    },
    "executionInfo": {
     "elapsed": 18,
     "status": "ok",
     "timestamp": 1742769525334,
     "user": {
      "displayName": "Jacobo Zuluaga",
      "userId": "02492111909994042039"
     },
     "user_tz": 300
    },
    "id": "W4o6jCmtKB0Q",
    "outputId": "a29b63ab-8962-447d-acec-1238cd2ced46"
   },
   "outputs": [
    {
     "name": "stdout",
     "output_type": "stream",
     "text": [
      "<class 'pandas.core.frame.DataFrame'>\n",
      "RangeIndex: 50 entries, 0 to 49\n",
      "Data columns (total 5 columns):\n",
      " #   Column                Non-Null Count  Dtype  \n",
      "---  ------                --------------  -----  \n",
      " 0   Registro              47 non-null     float64\n",
      " 1   Horas de operación    47 non-null     float64\n",
      " 2   Temperatura ambiente  47 non-null     float64\n",
      " 3   Carga operativa       47 non-null     float64\n",
      " 4   Mantenimiento         47 non-null     object \n",
      "dtypes: float64(4), object(1)\n",
      "memory usage: 2.1+ KB\n"
     ]
    },
    {
     "data": {
      "text/plain": [
       "(50, 5)"
      ]
     },
     "execution_count": 71,
     "metadata": {},
     "output_type": "execute_result"
    }
   ],
   "source": [
    "#data.info for information about the data\n",
    "data2.info()\n",
    "#shape for checking the shape of the data\n",
    "data2.shape"
   ]
  },
  {
   "cell_type": "code",
   "execution_count": 72,
   "metadata": {
    "executionInfo": {
     "elapsed": 17,
     "status": "ok",
     "timestamp": 1742769593703,
     "user": {
      "displayName": "Jacobo Zuluaga",
      "userId": "02492111909994042039"
     },
     "user_tz": 300
    },
    "id": "abTlK2PVKJ4t"
   },
   "outputs": [],
   "source": [
    "data4.dropna(inplace=True)"
   ]
  },
  {
   "cell_type": "code",
   "execution_count": 73,
   "metadata": {
    "colab": {
     "base_uri": "https://localhost:8080/",
     "height": 424
    },
    "executionInfo": {
     "elapsed": 28,
     "status": "ok",
     "timestamp": 1742769874869,
     "user": {
      "displayName": "Jacobo Zuluaga",
      "userId": "02492111909994042039"
     },
     "user_tz": 300
    },
    "id": "UODLn9enKeMi",
    "outputId": "4c851f63-0b40-48d5-ac3a-b4143f6fec37"
   },
   "outputs": [
    {
     "data": {
      "text/html": [
       "<div>\n",
       "<style scoped>\n",
       "    .dataframe tbody tr th:only-of-type {\n",
       "        vertical-align: middle;\n",
       "    }\n",
       "\n",
       "    .dataframe tbody tr th {\n",
       "        vertical-align: top;\n",
       "    }\n",
       "\n",
       "    .dataframe thead th {\n",
       "        text-align: right;\n",
       "    }\n",
       "</style>\n",
       "<table border=\"1\" class=\"dataframe\">\n",
       "  <thead>\n",
       "    <tr style=\"text-align: right;\">\n",
       "      <th></th>\n",
       "      <th>Temperatura</th>\n",
       "      <th>Vibración</th>\n",
       "      <th>Velocidad (rpm)</th>\n",
       "    </tr>\n",
       "  </thead>\n",
       "  <tbody>\n",
       "    <tr>\n",
       "      <th>0</th>\n",
       "      <td>0.060680</td>\n",
       "      <td>1.339633</td>\n",
       "      <td>1.546682</td>\n",
       "    </tr>\n",
       "    <tr>\n",
       "      <th>1</th>\n",
       "      <td>-0.152232</td>\n",
       "      <td>0.822400</td>\n",
       "      <td>-1.187482</td>\n",
       "    </tr>\n",
       "    <tr>\n",
       "      <th>2</th>\n",
       "      <td>-0.258687</td>\n",
       "      <td>-0.936192</td>\n",
       "      <td>0.914407</td>\n",
       "    </tr>\n",
       "    <tr>\n",
       "      <th>3</th>\n",
       "      <td>-0.060984</td>\n",
       "      <td>-0.832745</td>\n",
       "      <td>-1.665960</td>\n",
       "    </tr>\n",
       "    <tr>\n",
       "      <th>4</th>\n",
       "      <td>-0.091400</td>\n",
       "      <td>-1.660318</td>\n",
       "      <td>-0.127993</td>\n",
       "    </tr>\n",
       "    <tr>\n",
       "      <th>...</th>\n",
       "      <td>...</td>\n",
       "      <td>...</td>\n",
       "      <td>...</td>\n",
       "    </tr>\n",
       "    <tr>\n",
       "      <th>95</th>\n",
       "      <td>0.030264</td>\n",
       "      <td>1.753420</td>\n",
       "      <td>0.931496</td>\n",
       "    </tr>\n",
       "    <tr>\n",
       "      <th>96</th>\n",
       "      <td>0.151927</td>\n",
       "      <td>0.098274</td>\n",
       "      <td>-0.674826</td>\n",
       "    </tr>\n",
       "    <tr>\n",
       "      <th>97</th>\n",
       "      <td>-0.365143</td>\n",
       "      <td>-0.832745</td>\n",
       "      <td>0.367574</td>\n",
       "    </tr>\n",
       "    <tr>\n",
       "      <th>98</th>\n",
       "      <td>0.151927</td>\n",
       "      <td>1.856866</td>\n",
       "      <td>-1.512164</td>\n",
       "    </tr>\n",
       "    <tr>\n",
       "      <th>99</th>\n",
       "      <td>9.824185</td>\n",
       "      <td>1.753420</td>\n",
       "      <td>-1.392544</td>\n",
       "    </tr>\n",
       "  </tbody>\n",
       "</table>\n",
       "<p>100 rows × 3 columns</p>\n",
       "</div>"
      ],
      "text/plain": [
       "    Temperatura  Vibración  Velocidad (rpm)\n",
       "0      0.060680   1.339633         1.546682\n",
       "1     -0.152232   0.822400        -1.187482\n",
       "2     -0.258687  -0.936192         0.914407\n",
       "3     -0.060984  -0.832745        -1.665960\n",
       "4     -0.091400  -1.660318        -0.127993\n",
       "..          ...        ...              ...\n",
       "95     0.030264   1.753420         0.931496\n",
       "96     0.151927   0.098274        -0.674826\n",
       "97    -0.365143  -0.832745         0.367574\n",
       "98     0.151927   1.856866        -1.512164\n",
       "99     9.824185   1.753420        -1.392544\n",
       "\n",
       "[100 rows x 3 columns]"
      ]
     },
     "execution_count": 73,
     "metadata": {},
     "output_type": "execute_result"
    }
   ],
   "source": [
    "from sklearn.preprocessing import StandardScaler\n",
    "\n",
    "numerical_cols = ['Temperatura', 'Vibración', 'Velocidad (rpm)']\n",
    "data_to_scale = data4[numerical_cols]\n",
    "\n",
    "scaler = StandardScaler()\n",
    "\n",
    "scaled_data = scaler.fit_transform(data_to_scale)\n",
    "\n",
    "scaled_df = pd.DataFrame(scaled_data, columns=numerical_cols)\n",
    "\n",
    "scaled_df"
   ]
  },
  {
   "cell_type": "code",
   "execution_count": 74,
   "metadata": {
    "executionInfo": {
     "elapsed": 6,
     "status": "ok",
     "timestamp": 1742772114587,
     "user": {
      "displayName": "Jacobo Zuluaga",
      "userId": "02492111909994042039"
     },
     "user_tz": 300
    },
    "id": "2dkx6k_XQYjt"
   },
   "outputs": [],
   "source": [
    "#replace outliers using IQR method\n",
    "def replace_outliers_iqr(df, column):\n",
    "  Q1 = df[column].quantile(0.25)\n",
    "  Q3 = df[column].quantile(0.75)\n",
    "  IQR = Q3 - Q1\n",
    "  lower_bound = Q1 - 1.5 * IQR\n",
    "  upper_bound = Q3 + 1.5 * IQR\n",
    "  df[column] = df[column].apply(lambda x: lower_bound if x < lower_bound else (upper_bound if x > upper_bound else x))\n",
    "  return df\n",
    "\n",
    "\n",
    "#iterate through columns to replace outliers\n",
    "for column in ['Temperatura', 'Vibración', 'Velocidad (rpm)']:\n",
    "  scaled_df = replace_outliers_iqr(scaled_df, column)\n"
   ]
  },
  {
   "cell_type": "code",
   "execution_count": 76,
   "metadata": {
    "colab": {
     "base_uri": "https://localhost:8080/",
     "height": 1000
    },
    "executionInfo": {
     "elapsed": 892,
     "status": "ok",
     "timestamp": 1742772117253,
     "user": {
      "displayName": "Jacobo Zuluaga",
      "userId": "02492111909994042039"
     },
     "user_tz": 300
    },
    "id": "iJ1kVKXZLezQ",
    "outputId": "edf37d04-19d2-48b2-953a-5498f07c7155"
   },
   "outputs": [
    {
     "data": {
      "image/png": "[encoded data removed]",
      "text/plain": [
       "<Figure size 640x480 with 1 Axes>"
      ]
     },
     "metadata": {},
     "output_type": "display_data"
    },
    {
     "data": {
      "image/png": "[encoded data removed]",
      "text/plain": [
       "<Figure size 640x480 with 1 Axes>"
      ]
     },
     "metadata": {},
     "output_type": "display_data"
    },
    {
     "data": {
      "image/png": "[encoded data removed]",
      "text/plain": [
       "<Figure size 640x480 with 1 Axes>"
      ]
     },
     "metadata": {},
     "output_type": "display_data"
    },
    {
     "data": {
      "text/html": [
       "<div>\n",
       "<style scoped>\n",
       "    .dataframe tbody tr th:only-of-type {\n",
       "        vertical-align: middle;\n",
       "    }\n",
       "\n",
       "    .dataframe tbody tr th {\n",
       "        vertical-align: top;\n",
       "    }\n",
       "\n",
       "    .dataframe thead th {\n",
       "        text-align: right;\n",
       "    }\n",
       "</style>\n",
       "<table border=\"1\" class=\"dataframe\">\n",
       "  <thead>\n",
       "    <tr style=\"text-align: right;\">\n",
       "      <th></th>\n",
       "      <th>Temperatura</th>\n",
       "      <th>Vibración</th>\n",
       "      <th>Velocidad (rpm)</th>\n",
       "    </tr>\n",
       "    <tr>\n",
       "      <th>cluster</th>\n",
       "      <th></th>\n",
       "      <th></th>\n",
       "      <th></th>\n",
       "    </tr>\n",
       "  </thead>\n",
       "  <tbody>\n",
       "    <tr>\n",
       "      <th>0</th>\n",
       "      <td>-0.105266</td>\n",
       "      <td>-0.808405</td>\n",
       "      <td>0.682204</td>\n",
       "    </tr>\n",
       "    <tr>\n",
       "      <th>1</th>\n",
       "      <td>-0.065804</td>\n",
       "      <td>0.822400</td>\n",
       "      <td>-1.097767</td>\n",
       "    </tr>\n",
       "    <tr>\n",
       "      <th>2</th>\n",
       "      <td>-0.070241</td>\n",
       "      <td>0.871875</td>\n",
       "      <td>0.866113</td>\n",
       "    </tr>\n",
       "    <tr>\n",
       "      <th>3</th>\n",
       "      <td>-0.158315</td>\n",
       "      <td>-1.039638</td>\n",
       "      <td>-0.825205</td>\n",
       "    </tr>\n",
       "  </tbody>\n",
       "</table>\n",
       "</div>"
      ],
      "text/plain": [
       "         Temperatura  Vibración  Velocidad (rpm)\n",
       "cluster                                         \n",
       "0          -0.105266  -0.808405         0.682204\n",
       "1          -0.065804   0.822400        -1.097767\n",
       "2          -0.070241   0.871875         0.866113\n",
       "3          -0.158315  -1.039638        -0.825205"
      ]
     },
     "execution_count": 76,
     "metadata": {},
     "output_type": "execute_result"
    }
   ],
   "source": [
    "import matplotlib.pyplot as plt\n",
    "from sklearn.cluster import KMeans\n",
    "from sklearn.metrics import silhouette_score\n",
    "from mpl_toolkits.mplot3d import Axes3D\n",
    "\n",
    "inertia = []\n",
    "for i in range(1, 11):\n",
    "    kmeans = KMeans(n_clusters=i, random_state=0)\n",
    "    kmeans.fit(scaled_df)\n",
    "    inertia.append(kmeans.inertia_)\n",
    "\n",
    "plt.plot(range(1, 11), inertia, marker='o')\n",
    "plt.title('Método del codo')\n",
    "plt.xlabel('Número de clusters (k)')\n",
    "plt.ylabel('Inercia')\n",
    "plt.show()\n",
    "\n",
    "\n",
    "#silhouette method for determining the optimal number of clusters\n",
    "silhouette_avg = []\n",
    "for i in range(2, 11):\n",
    "    kmeans = KMeans(n_clusters=i, random_state=0)\n",
    "    cluster_labels = kmeans.fit_predict(scaled_df)\n",
    "    silhouette_avg.append(silhouette_score(scaled_df, cluster_labels))\n",
    "\n",
    "plt.plot(range(2, 11), silhouette_avg, marker='o')\n",
    "plt.title('Método de la silueta')\n",
    "plt.xlabel('Número de clusters (k)')\n",
    "plt.ylabel('Puntuación de la silueta')\n",
    "plt.show()\n",
    "\n",
    "\n",
    "\n",
    "kmeans = KMeans(n_clusters=4, random_state=0)\n",
    "scaled_df['cluster'] = kmeans.fit_predict(scaled_df)\n",
    "\n",
    "#plot the clusters for better visualization\n",
    "fig = plt.figure()\n",
    "ax = fig.add_subplot(111, projection='3d')\n",
    "ax.scatter(scaled_df['Temperatura'], scaled_df['Vibración'], scaled_df['Velocidad (rpm)'], c=scaled_df['cluster'])\n",
    "ax.set_xlabel('Temperatura')\n",
    "ax.set_ylabel('Vibración')\n",
    "ax.set_zlabel('Velocidad (rpm)')\n",
    "ax.set_title('Clusters de K-Means')\n",
    "plt.show()\n",
    "\n",
    "cluster_means = scaled_df.groupby('cluster').mean()\n",
    "cluster_means\n",
    "# For each cluster, we can analyze the mean values of the features\n",
    "# For example, a cluster with high temperature, high vibration, and high speed could correspond to a high-load regime.\n",
    "# A cluster with low temperature, low vibration, and low speed could correspond to a low-load regime.\n",
    "# A cluster with intermediate temperature, intermediate vibration, and intermediate speed could correspond to a warm-up regime.\n",
    "\n",
    "# 5. Discussion and maintenance action proposals\n",
    "# Based on the interpretation of the clusters:\n",
    "# - Potential problems or anomalies in the equipment can be identified.\n",
    "# - Maintenance actions can be proposed for each cluster, for example:\n",
    "#   - High-load cluster: Schedule more frequent preventive maintenance for key components.\n",
    "#   - Warm-up cluster: Monitor the equipment's temperature and investigate possible heat sources.\n",
    "#   - Low-load cluster: Adjust the equipment's operating parameters to optimize energy consumption.\n"
   ]
  }
 ],
 "metadata": {
  "colab": {
   "authorship_tag": "ABX9TyN2/DYh50jcZhspTwT+M6jM",
   "provenance": []
  },
  "kernelspec": {
   "display_name": ".venv",
   "language": "python",
   "name": "python3"
  },
  "language_info": {
   "codemirror_mode": {
    "name": "ipython",
    "version": 3
   },
   "file_extension": ".py",
   "mimetype": "text/x-python",
   "name": "python",
   "nbconvert_exporter": "python",
   "pygments_lexer": "ipython3",
   "version": "3.12.3"
  }
 },
 "nbformat": 4,
 "nbformat_minor": 0
}
